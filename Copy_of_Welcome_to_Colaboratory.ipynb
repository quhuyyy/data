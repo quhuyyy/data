{
  "cells": [
    {
      "cell_type": "markdown",
      "metadata": {
        "id": "view-in-github",
        "colab_type": "text"
      },
      "source": [
        "<a href=\"https://colab.research.google.com/github/quhuyyy/data/blob/main/Copy_of_Welcome_to_Colaboratory.ipynb\" target=\"_parent\"><img src=\"https://colab.research.google.com/assets/colab-badge.svg\" alt=\"Open In Colab\"/></a>"
      ]
    },
    {
      "cell_type": "code",
      "source": [
        "import pandas as pd\n",
        "import numpy as np\n"
      ],
      "metadata": {
        "id": "Dnj4MsNQPkgA"
      },
      "execution_count": null,
      "outputs": []
    },
    {
      "cell_type": "code",
      "source": [
        "!pip install pyspark"
      ],
      "metadata": {
        "id": "2LxQ-oWfVX2e",
        "outputId": "eaffafcb-0335-4da5-acb9-0de9a08b09a3",
        "colab": {
          "base_uri": "https://localhost:8080/"
        }
      },
      "execution_count": null,
      "outputs": [
        {
          "output_type": "stream",
          "name": "stdout",
          "text": [
            "Looking in indexes: https://pypi.org/simple, https://us-python.pkg.dev/colab-wheels/public/simple/\n",
            "Collecting pyspark\n",
            "  Downloading pyspark-3.3.0.tar.gz (281.3 MB)\n",
            "\u001b[K     |████████████████████████████████| 281.3 MB 35 kB/s \n",
            "\u001b[?25hCollecting py4j==0.10.9.5\n",
            "  Downloading py4j-0.10.9.5-py2.py3-none-any.whl (199 kB)\n",
            "\u001b[K     |████████████████████████████████| 199 kB 45.9 MB/s \n",
            "\u001b[?25hBuilding wheels for collected packages: pyspark\n",
            "  Building wheel for pyspark (setup.py) ... \u001b[?25l\u001b[?25hdone\n",
            "  Created wheel for pyspark: filename=pyspark-3.3.0-py2.py3-none-any.whl size=281764026 sha256=bf9a8b20e0b409d01a42459220f79ec1eaa773f8c4732a587d1956cfacc5cfab\n",
            "  Stored in directory: /root/.cache/pip/wheels/7a/8e/1b/f73a52650d2e5f337708d9f6a1750d451a7349a867f928b885\n",
            "Successfully built pyspark\n",
            "Installing collected packages: py4j, pyspark\n",
            "Successfully installed py4j-0.10.9.5 pyspark-3.3.0\n"
          ]
        }
      ]
    },
    {
      "cell_type": "code",
      "source": [
        "import pyspark"
      ],
      "metadata": {
        "id": "9jo580aJY9Pj"
      },
      "execution_count": null,
      "outputs": []
    },
    {
      "cell_type": "code",
      "source": [
        "from pyspark.sql import SparkSession"
      ],
      "metadata": {
        "id": "EtTFeATeZTSW"
      },
      "execution_count": null,
      "outputs": []
    },
    {
      "cell_type": "markdown",
      "source": [
        "**ĐỌC DỮ LIỆU**"
      ],
      "metadata": {
        "id": "cKbEIrSJUNl2"
      }
    },
    {
      "cell_type": "code",
      "source": [
        ""
      ],
      "metadata": {
        "id": "Q0kur3S4ZSVG"
      },
      "execution_count": null,
      "outputs": []
    },
    {
      "cell_type": "code",
      "source": [
        "!wget -O \"test1.csv\" \"https://raw.githubusercontent.com/quhuyyy/data/main/Linear%20v%E1%BB%9Bi%20spark/test1.csv\"\n",
        "!wget -O \"test2.csv\" \"https://raw.githubusercontent.com/quhuyyy/data/main/Linear%20v%E1%BB%9Bi%20spark/test2.csv\"\n",
        "!wget -O \"test3.csv\" \"https://raw.githubusercontent.com/quhuyyy/data/main/Linear%20v%E1%BB%9Bi%20spark/test3.csv\"\n",
        "!wget -O \"tips.csv\"  \"https://raw.githubusercontent.com/quhuyyy/data/main/Linear%20v%E1%BB%9Bi%20spark/tips.csv\""
      ],
      "metadata": {
        "id": "65cw8gLKPkiL",
        "outputId": "409b00f6-c7f0-42d6-f68c-01f0f33954d2",
        "colab": {
          "base_uri": "https://localhost:8080/"
        }
      },
      "execution_count": null,
      "outputs": [
        {
          "output_type": "stream",
          "name": "stdout",
          "text": [
            "--2022-08-19 08:52:57--  https://raw.githubusercontent.com/quhuyyy/data/main/Linear%20v%E1%BB%9Bi%20spark/test1.csv\n",
            "Resolving raw.githubusercontent.com (raw.githubusercontent.com)... 185.199.108.133, 185.199.111.133, 185.199.109.133, ...\n",
            "Connecting to raw.githubusercontent.com (raw.githubusercontent.com)|185.199.108.133|:443... connected.\n",
            "HTTP request sent, awaiting response... 200 OK\n",
            "Length: 143 [text/plain]\n",
            "Saving to: ‘test1.csv’\n",
            "\n",
            "\rtest1.csv             0%[                    ]       0  --.-KB/s               \rtest1.csv           100%[===================>]     143  --.-KB/s    in 0s      \n",
            "\n",
            "2022-08-19 08:52:57 (4.33 MB/s) - ‘test1.csv’ saved [143/143]\n",
            "\n",
            "--2022-08-19 08:52:57--  https://raw.githubusercontent.com/quhuyyy/data/main/Linear%20v%E1%BB%9Bi%20spark/test2.csv\n",
            "Resolving raw.githubusercontent.com (raw.githubusercontent.com)... 185.199.108.133, 185.199.109.133, 185.199.110.133, ...\n",
            "Connecting to raw.githubusercontent.com (raw.githubusercontent.com)|185.199.108.133|:443... connected.\n",
            "HTTP request sent, awaiting response... 200 OK\n",
            "Length: 180 [text/plain]\n",
            "Saving to: ‘test2.csv’\n",
            "\n",
            "test2.csv           100%[===================>]     180  --.-KB/s    in 0s      \n",
            "\n",
            "2022-08-19 08:52:57 (8.07 MB/s) - ‘test2.csv’ saved [180/180]\n",
            "\n",
            "--2022-08-19 08:52:57--  https://raw.githubusercontent.com/quhuyyy/data/main/Linear%20v%E1%BB%9Bi%20spark/test3.csv\n",
            "Resolving raw.githubusercontent.com (raw.githubusercontent.com)... 185.199.108.133, 185.199.109.133, 185.199.110.133, ...\n",
            "Connecting to raw.githubusercontent.com (raw.githubusercontent.com)|185.199.108.133|:443... connected.\n",
            "HTTP request sent, awaiting response... 200 OK\n",
            "Length: 259 [text/plain]\n",
            "Saving to: ‘test3.csv’\n",
            "\n",
            "test3.csv           100%[===================>]     259  --.-KB/s    in 0s      \n",
            "\n",
            "2022-08-19 08:52:57 (10.8 MB/s) - ‘test3.csv’ saved [259/259]\n",
            "\n",
            "--2022-08-19 08:52:57--  https://raw.githubusercontent.com/quhuyyy/data/main/Linear%20v%E1%BB%9Bi%20spark/tips.csv\n",
            "Resolving raw.githubusercontent.com (raw.githubusercontent.com)... 185.199.108.133, 185.199.109.133, 185.199.110.133, ...\n",
            "Connecting to raw.githubusercontent.com (raw.githubusercontent.com)|185.199.108.133|:443... connected.\n",
            "HTTP request sent, awaiting response... 200 OK\n",
            "Length: 8188 (8.0K) [text/plain]\n",
            "Saving to: ‘tips.csv’\n",
            "\n",
            "tips.csv            100%[===================>]   8.00K  --.-KB/s    in 0s      \n",
            "\n",
            "2022-08-19 08:52:57 (58.8 MB/s) - ‘tips.csv’ saved [8188/8188]\n",
            "\n"
          ]
        }
      ]
    },
    {
      "cell_type": "code",
      "source": [
        "list = [\"test1\", \"test2\", \"test3\", \"tips\"]\n"
      ],
      "metadata": {
        "id": "kCwveQTVPkkl"
      },
      "execution_count": null,
      "outputs": []
    },
    {
      "cell_type": "code",
      "source": [
        "for huy in list:\n",
        "  globals()[huy] = spark.read.csv(f\"{huy}.csv\")\n"
      ],
      "metadata": {
        "id": "ORg8Dr7lPkm6"
      },
      "execution_count": null,
      "outputs": []
    },
    {
      "cell_type": "code",
      "source": [
        "test1"
      ],
      "metadata": {
        "id": "d7MwbASjPkpd",
        "outputId": "d0cef6e6-fabe-4a3a-ea55-d68fbb29038e",
        "colab": {
          "base_uri": "https://localhost:8080/"
        }
      },
      "execution_count": null,
      "outputs": [
        {
          "output_type": "execute_result",
          "data": {
            "text/plain": [
              "DataFrame[_c0: string, _c1: string, _c2: string, _c3: string]"
            ]
          },
          "metadata": {},
          "execution_count": 40
        }
      ]
    },
    {
      "cell_type": "code",
      "source": [
        "spark = SparkSession.builder.appName('Practise').getOrCreate()"
      ],
      "metadata": {
        "id": "EeHdyb5aPkrq"
      },
      "execution_count": null,
      "outputs": []
    },
    {
      "cell_type": "code",
      "source": [
        "spark"
      ],
      "metadata": {
        "id": "gKaiLcz2PkuM",
        "outputId": "7b7079fe-55e2-4747-9451-d2344a2b1e70",
        "colab": {
          "base_uri": "https://localhost:8080/",
          "height": 219
        }
      },
      "execution_count": null,
      "outputs": [
        {
          "output_type": "execute_result",
          "data": {
            "text/plain": [
              "<pyspark.sql.session.SparkSession at 0x7f89f0b97950>"
            ],
            "text/html": [
              "\n",
              "            <div>\n",
              "                <p><b>SparkSession - in-memory</b></p>\n",
              "                \n",
              "        <div>\n",
              "            <p><b>SparkContext</b></p>\n",
              "\n",
              "            <p><a href=\"http://753bef258ad0:4040\">Spark UI</a></p>\n",
              "\n",
              "            <dl>\n",
              "              <dt>Version</dt>\n",
              "                <dd><code>v3.3.0</code></dd>\n",
              "              <dt>Master</dt>\n",
              "                <dd><code>local[*]</code></dd>\n",
              "              <dt>AppName</dt>\n",
              "                <dd><code>Practise</code></dd>\n",
              "            </dl>\n",
              "        </div>\n",
              "        \n",
              "            </div>\n",
              "        "
            ]
          },
          "metadata": {},
          "execution_count": 31
        }
      ]
    },
    {
      "cell_type": "code",
      "source": [
        "test1.show()"
      ],
      "metadata": {
        "id": "T6ZWnTnQPkwn",
        "outputId": "c8ed079e-60fc-4530-814b-af49c32e02aa",
        "colab": {
          "base_uri": "https://localhost:8080/"
        }
      },
      "execution_count": null,
      "outputs": [
        {
          "output_type": "stream",
          "name": "stdout",
          "text": [
            "+---------+---+----------+------+\n",
            "|      _c0|_c1|       _c2|   _c3|\n",
            "+---------+---+----------+------+\n",
            "|     Name|age|Experience|Salary|\n",
            "|    Krish| 31|        10| 30000|\n",
            "|Sudhanshu| 30|         8| 25000|\n",
            "|    Sunny| 29|         4| 20000|\n",
            "|     Paul| 24|         3| 20000|\n",
            "|   Harsha| 21|         1| 15000|\n",
            "|  Shubham| 23|         2| 18000|\n",
            "+---------+---+----------+------+\n",
            "\n"
          ]
        }
      ]
    },
    {
      "cell_type": "code",
      "source": [
        ""
      ],
      "metadata": {
        "id": "FUh83cfmPky0"
      },
      "execution_count": null,
      "outputs": []
    }
  ],
  "metadata": {
    "colab": {
      "collapsed_sections": [],
      "name": "Copy of Welcome to Colaboratory",
      "provenance": [],
      "include_colab_link": true
    },
    "kernelspec": {
      "display_name": "Python 3",
      "name": "python3"
    }
  },
  "nbformat": 4,
  "nbformat_minor": 0
}